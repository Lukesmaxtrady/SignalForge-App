# backtest.ipynb

import pandas as pd
from src.signals.ta_engine import add_ta_features
from src.signals.ml_engine import train_meta_model, predict_meta

# Load data
df = pd.read_csv("../data/ohlcv/BTCUSDT.csv")
df = add_ta_features(df)
df["target"] = (df["close"].shift(-1) > df["close"]).astype(int)  # Simple up/down label

# Train/test split
split = int(0.8 * len(df))
train, test = df.iloc[:split], df.iloc[split:]

# Train ML model
model = train_meta_model(train, target_col="target", model_type="xgboost", save_path=None)

# Backtest logic: trade on model predictions
test_preds = predict_meta(model, test)
test["pred"] = test_preds
test["ret"] = test["close"].pct_change().shift(-1)
test["strategy_ret"] = test["pred"] * test["ret"]

print("Strategy cumulative return: ", (1 + test["strategy_ret"].fillna(0)).prod() - 1)
test[["close", "pred", "strategy_ret"]].plot(subplots=True)